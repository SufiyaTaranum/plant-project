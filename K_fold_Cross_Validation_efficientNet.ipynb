{
 "cells": [
  {
   "cell_type": "code",
   "execution_count": 1,
   "metadata": {
    "id": "wnSM_UBleDkp"
   },
   "outputs": [
    {
     "name": "stdout",
     "output_type": "stream",
     "text": [
      "WARNING:tensorflow:From c:\\Users\\MSIS\\AppData\\Local\\Programs\\Python\\Python311\\Lib\\site-packages\\keras\\src\\losses.py:2976: The name tf.losses.sparse_softmax_cross_entropy is deprecated. Please use tf.compat.v1.losses.sparse_softmax_cross_entropy instead.\n",
      "\n"
     ]
    }
   ],
   "source": [
    "import tensorflow as tf\n",
    "from matplotlib import pyplot as plt\n",
    "import pathlib\n",
    "from sklearn.model_selection import KFold\n",
    "from tensorflow.keras.preprocessing.image import ImageDataGenerator\n",
    "from tensorflow.keras.applications import EfficientNetB0\n",
    "from tensorflow.keras.layers import Dense, GlobalAveragePooling2D\n",
    "from tensorflow.keras.models import Model\n",
    "import matplotlib.pyplot as plt\n",
    "import numpy as np\n",
    "import os"
   ]
  },
  {
   "cell_type": "code",
   "execution_count": 2,
   "metadata": {
    "id": "xcFIM6PMf9HH"
   },
   "outputs": [],
   "source": [
    "\n",
    "# Define input image size and number of classes\n",
    "IMAGE_SIZE = (224, 224)\n",
    "NUM_CLASSES = 10  # Replace with actual number of classes\n",
    "BATCH_SIZE = 32\n",
    "EPOCHS = 10  # Number of epochs for each fold\n"
   ]
  },
  {
   "cell_type": "code",
   "execution_count": 3,
   "metadata": {
    "id": "cpD8pyUdgEks"
   },
   "outputs": [
    {
     "name": "stdout",
     "output_type": "stream",
     "text": [
      "Downloading data from https://storage.googleapis.com/example_imagess/train.tar.gz\n",
      "611809929/611809929 [==============================] - 190s 0us/step\n"
     ]
    }
   ],
   "source": [
    "# Assuming data directory path setup (update this based on your actual directory structure)\n",
    "dataset_url = \"https://storage.googleapis.com/example_imagess/train.tar.gz\"\n",
    "data_dir = tf.keras.utils.get_file('train.tar', origin=dataset_url, extract=True)\n",
    "data_dir = pathlib.Path(data_dir).with_suffix('')\n",
    "class_names = sorted(os.listdir(data_dir))\n",
    "X = []  # Placeholder for images\n",
    "y = []  # Placeholder for labels\n"
   ]
  },
  {
   "cell_type": "code",
   "execution_count": 4,
   "metadata": {
    "id": "buV1uIeMgGbk"
   },
   "outputs": [],
   "source": [
    "# Set up K-Fold cross-validation\n",
    "kfold = KFold(n_splits=5, shuffle=True, random_state=42)"
   ]
  },
  {
   "cell_type": "code",
   "execution_count": 5,
   "metadata": {
    "id": "qriKuU7kgKe8"
   },
   "outputs": [],
   "source": [
    "# Loading images and labels\n",
    "for idx, class_name in enumerate(class_names):\n",
    "    class_dir = os.path.join(data_dir, class_name)\n",
    "    for img_name in os.listdir(class_dir):\n",
    "        img_path = os.path.join(class_dir, img_name)\n",
    "        img = tf.keras.preprocessing.image.load_img(img_path, target_size=IMAGE_SIZE)\n",
    "        img_array = tf.keras.preprocessing.image.img_to_array(img)\n",
    "        X.append(img_array)\n",
    "        y.append(idx)  # Assuming class indices correspond to class_names"
   ]
  },
  {
   "cell_type": "code",
   "execution_count": 6,
   "metadata": {
    "id": "s-EmG7HxgRG9"
   },
   "outputs": [],
   "source": [
    "# Convert to numpy arrays\n",
    "X = np.array(X)\n",
    "y = np.array(y)\n",
    "\n",
    "# Find and replace values equal to or greater than NUM_CLASSES\n",
    "invalid_indices = np.where(y >= NUM_CLASSES)\n",
    "y[invalid_indices] = NUM_CLASSES - 1  # Replace with the highest valid class index\n",
    "\n",
    "# Convert labels to categorical format\n",
    "y = tf.keras.utils.to_categorical(y, NUM_CLASSES)"
   ]
  },
  {
   "cell_type": "code",
   "execution_count": 7,
   "metadata": {
    "id": "W74b5GO3gbX-"
   },
   "outputs": [
    {
     "name": "stdout",
     "output_type": "stream",
     "text": [
      "Training fold 1...\n",
      "Training fold 2...\n",
      "Training fold 3...\n",
      "Training fold 4...\n",
      "Training fold 5...\n"
     ]
    }
   ],
   "source": [
    "# Loop through each fold\n",
    "for fold, (train_idx, val_idx) in enumerate(kfold.split(X, y)):\n",
    "    print(f\"Training fold {fold + 1}...\")"
   ]
  },
  {
   "cell_type": "code",
   "execution_count": 8,
   "metadata": {
    "id": "V_kt_N57gfBU"
   },
   "outputs": [],
   "source": [
    "   # Split data for current fold\n",
    "X_train, X_val = X[train_idx], X[val_idx]\n",
    "y_train, y_val = y[train_idx], y[val_idx]"
   ]
  },
  {
   "cell_type": "code",
   "execution_count": 9,
   "metadata": {
    "id": "VZ12zitmgiE0"
   },
   "outputs": [],
   "source": [
    "    # Data augmentation\n",
    "train_datagen = ImageDataGenerator(rescale=1./255, rotation_range=20, width_shift_range=0.2, height_shift_range=0.2, horizontal_flip=True)\n",
    "val_datagen = ImageDataGenerator(rescale=1./255)"
   ]
  },
  {
   "cell_type": "code",
   "execution_count": 10,
   "metadata": {
    "id": "eIsaIjFQgkZE"
   },
   "outputs": [],
   "source": [
    "# Use flow for array-based data\n",
    "train_generator = train_datagen.flow(X_train, y_train, batch_size=BATCH_SIZE)\n",
    "val_generator = val_datagen.flow(X_val, y_val, batch_size=BATCH_SIZE)"
   ]
  },
  {
   "cell_type": "code",
   "execution_count": 11,
   "metadata": {
    "id": "-tz14qSkgm08"
   },
   "outputs": [
    {
     "name": "stdout",
     "output_type": "stream",
     "text": [
      "WARNING:tensorflow:From c:\\Users\\MSIS\\AppData\\Local\\Programs\\Python\\Python311\\Lib\\site-packages\\keras\\src\\backend.py:1398: The name tf.executing_eagerly_outside_functions is deprecated. Please use tf.compat.v1.executing_eagerly_outside_functions instead.\n",
      "\n",
      "WARNING:tensorflow:From c:\\Users\\MSIS\\AppData\\Local\\Programs\\Python\\Python311\\Lib\\site-packages\\keras\\src\\layers\\normalization\\batch_normalization.py:979: The name tf.nn.fused_batch_norm is deprecated. Please use tf.compat.v1.nn.fused_batch_norm instead.\n",
      "\n",
      "Downloading data from https://storage.googleapis.com/keras-applications/efficientnetb0_notop.h5\n",
      "16705208/16705208 [==============================] - 7s 0us/step\n"
     ]
    }
   ],
   "source": [
    "# Load EfficientNet model without the top layer\n",
    "base_model = EfficientNetB0(weights='imagenet', include_top=False, input_shape=(IMAGE_SIZE[0], IMAGE_SIZE[1], 3))\n",
    "base_model.trainable = False  # Freeze base layers"
   ]
  },
  {
   "cell_type": "code",
   "execution_count": 12,
   "metadata": {
    "id": "6rpo0ERLgpn7"
   },
   "outputs": [],
   "source": [
    "# Add custom layers\n",
    "x = base_model.output\n",
    "x = GlobalAveragePooling2D()(x)\n",
    "x = Dense(128, activation='relu')(x)\n",
    "outputs = Dense(NUM_CLASSES, activation='softmax')(x)\n"
   ]
  },
  {
   "cell_type": "code",
   "execution_count": 13,
   "metadata": {
    "id": "P20Dsl0XgxIM"
   },
   "outputs": [
    {
     "name": "stdout",
     "output_type": "stream",
     "text": [
      "WARNING:tensorflow:From c:\\Users\\MSIS\\AppData\\Local\\Programs\\Python\\Python311\\Lib\\site-packages\\keras\\src\\optimizers\\__init__.py:309: The name tf.train.Optimizer is deprecated. Please use tf.compat.v1.train.Optimizer instead.\n",
      "\n"
     ]
    }
   ],
   "source": [
    "# Create model\n",
    "model = Model(inputs=base_model.input, outputs=outputs)\n",
    "model.compile(optimizer='adam', loss='categorical_crossentropy', metrics=['accuracy'])"
   ]
  },
  {
   "cell_type": "code",
   "execution_count": 14,
   "metadata": {
    "id": "y0hPI6nng0Ps"
   },
   "outputs": [
    {
     "name": "stdout",
     "output_type": "stream",
     "text": [
      "Epoch 1/10\n",
      "WARNING:tensorflow:From c:\\Users\\MSIS\\AppData\\Local\\Programs\\Python\\Python311\\Lib\\site-packages\\keras\\src\\utils\\tf_utils.py:492: The name tf.ragged.RaggedTensorValue is deprecated. Please use tf.compat.v1.ragged.RaggedTensorValue instead.\n",
      "\n",
      "WARNING:tensorflow:From c:\\Users\\MSIS\\AppData\\Local\\Programs\\Python\\Python311\\Lib\\site-packages\\keras\\src\\engine\\base_layer_utils.py:384: The name tf.executing_eagerly_outside_functions is deprecated. Please use tf.compat.v1.executing_eagerly_outside_functions instead.\n",
      "\n",
      "979/979 [==============================] - 513s 519ms/step - loss: 1.6304 - accuracy: 0.5748 - val_loss: 1.6270 - val_accuracy: 0.5723\n",
      "Epoch 2/10\n",
      "979/979 [==============================] - 412s 420ms/step - loss: 1.6253 - accuracy: 0.5755 - val_loss: 1.6244 - val_accuracy: 0.5723\n",
      "Epoch 3/10\n",
      "979/979 [==============================] - 383s 391ms/step - loss: 1.6212 - accuracy: 0.5755 - val_loss: 1.6304 - val_accuracy: 0.5723\n",
      "Epoch 4/10\n",
      "979/979 [==============================] - 385s 393ms/step - loss: 1.6198 - accuracy: 0.5755 - val_loss: 1.6245 - val_accuracy: 0.5723\n",
      "Epoch 5/10\n",
      "979/979 [==============================] - 368s 376ms/step - loss: 1.6194 - accuracy: 0.5755 - val_loss: 1.6251 - val_accuracy: 0.5723\n",
      "Epoch 6/10\n",
      "979/979 [==============================] - 366s 374ms/step - loss: 1.6183 - accuracy: 0.5755 - val_loss: 1.6251 - val_accuracy: 0.5723\n",
      "Epoch 7/10\n",
      "979/979 [==============================] - 367s 375ms/step - loss: 1.6183 - accuracy: 0.5755 - val_loss: 1.6455 - val_accuracy: 0.5723\n",
      "Epoch 8/10\n",
      "979/979 [==============================] - 373s 381ms/step - loss: 1.6170 - accuracy: 0.5755 - val_loss: 1.6258 - val_accuracy: 0.5723\n",
      "Epoch 9/10\n",
      "979/979 [==============================] - 473s 483ms/step - loss: 1.6170 - accuracy: 0.5755 - val_loss: 1.6229 - val_accuracy: 0.5723\n",
      "Epoch 10/10\n",
      "979/979 [==============================] - 510s 521ms/step - loss: 1.6175 - accuracy: 0.5755 - val_loss: 1.6255 - val_accuracy: 0.5723\n"
     ]
    }
   ],
   "source": [
    " # Train model on current fold\n",
    "model.fit(train_generator, validation_data=val_generator, epochs=EPOCHS)\n",
    " # Optional: Unfreeze some layers for fine-tuning\n",
    "for layer in base_model.layers[-10:]:\n",
    "        layer.trainable = True\n",
    "        model.compile(optimizer=tf.keras.optimizers.Adam(1e-5), loss='categorical_crossentropy', metrics=['accuracy'])"
   ]
  },
  {
   "cell_type": "code",
   "execution_count": 15,
   "metadata": {
    "id": "4BQCpcxxg3Ad"
   },
   "outputs": [
    {
     "name": "stdout",
     "output_type": "stream",
     "text": [
      "Epoch 1/5\n",
      "979/979 [==============================] - 425s 431ms/step - loss: 1.7821 - accuracy: 0.5219 - val_loss: 1.6252 - val_accuracy: 0.5723\n",
      "Epoch 2/5\n",
      "979/979 [==============================] - 377s 385ms/step - loss: 1.6158 - accuracy: 0.5755 - val_loss: 1.6198 - val_accuracy: 0.5723\n",
      "Epoch 3/5\n",
      "979/979 [==============================] - 374s 382ms/step - loss: 1.6137 - accuracy: 0.5755 - val_loss: 1.6203 - val_accuracy: 0.5723\n",
      "Epoch 4/5\n",
      "979/979 [==============================] - 434s 443ms/step - loss: 1.6112 - accuracy: 0.5755 - val_loss: 1.6153 - val_accuracy: 0.5723\n",
      "Epoch 5/5\n",
      "979/979 [==============================] - 513s 524ms/step - loss: 1.6111 - accuracy: 0.5755 - val_loss: 1.6141 - val_accuracy: 0.5723\n",
      "Completed fold 5\n"
     ]
    }
   ],
   "source": [
    " # Continue training for fine-tuning\n",
    "model.fit(train_generator, validation_data=val_generator, epochs=5)\n",
    "\n",
    "# After each fold, you can save metrics for evaluation\n",
    "# e.g., accuracy, val_accuracy = model.evaluate(val_generator)\n",
    "print(f\"Completed fold {fold + 1}\")\n"
   ]
  },
  {
   "cell_type": "code",
   "execution_count": 84,
   "metadata": {},
   "outputs": [
    {
     "name": "stdout",
     "output_type": "stream",
     "text": [
      "Epoch 1/5\n",
      "979/979 [==============================] - 40s 41ms/step - loss: 0.0171 - accuracy: 0.9952 - val_loss: 0.3764 - val_accuracy: 0.9409\n",
      "Epoch 2/5\n",
      "979/979 [==============================] - 39s 40ms/step - loss: 0.0134 - accuracy: 0.9959 - val_loss: 0.3006 - val_accuracy: 0.9493\n",
      "Epoch 3/5\n",
      "979/979 [==============================] - 44s 45ms/step - loss: 0.0222 - accuracy: 0.9941 - val_loss: 0.2714 - val_accuracy: 0.9558\n",
      "Epoch 4/5\n",
      "979/979 [==============================] - 53s 54ms/step - loss: 0.0148 - accuracy: 0.9955 - val_loss: 0.3050 - val_accuracy: 0.9519\n",
      "Epoch 5/5\n",
      "979/979 [==============================] - 49s 50ms/step - loss: 0.0243 - accuracy: 0.9929 - val_loss: 0.3095 - val_accuracy: 0.9534\n",
      "245/245 [==============================] - 5s 20ms/step\n",
      "Classification report for fold 1:\n",
      "                                                    precision    recall  f1-score   support\n",
      "\n",
      "                                Apple___Apple_scab       0.04      0.04      0.04       386\n",
      "                                 Apple___Black_rot       0.05      0.04      0.05       356\n",
      "                          Apple___Cedar_apple_rust       0.06      0.06      0.06       363\n",
      "                                   Apple___healthy       0.04      0.04      0.04       412\n",
      "                               Blueberry___healthy       0.04      0.04      0.04       371\n",
      "          Cherry_(including_sour)___Powdery_mildew       0.04      0.04      0.04       311\n",
      "                 Cherry_(including_sour)___healthy       0.06      0.06      0.06       357\n",
      "Corn_(maize)___Cercospora_leaf_spot Gray_leaf_spot       0.05      0.06      0.05       308\n",
      "                       Corn_(maize)___Common_rust_       0.04      0.04      0.04       382\n",
      "               Corn_(maize)___Northern_Leaf_Blight       0.02      0.02      0.02       389\n",
      "                            Corn_(maize)___healthy       0.05      0.05      0.05       362\n",
      "                     Pepper,_bell___Bacterial_spot       0.05      0.05      0.05       375\n",
      "                            Pepper,_bell___healthy       0.06      0.06      0.06       411\n",
      "                             Potato___Early_blight       0.06      0.05      0.05       378\n",
      "                              Potato___Late_blight       0.04      0.04      0.04       412\n",
      "                                  Potato___healthy       0.04      0.04      0.04       380\n",
      "                               Raspberry___healthy       0.05      0.05      0.05       355\n",
      "                                 Soybean___healthy       0.07      0.07      0.07       400\n",
      "                           Squash___Powdery_mildew       0.03      0.03      0.03       357\n",
      "                          Strawberry___Leaf_scorch       0.05      0.05      0.05       365\n",
      "                              Strawberry___healthy       0.05      0.05      0.05       400\n",
      "\n",
      "                                          accuracy                           0.05      7830\n",
      "                                         macro avg       0.05      0.05      0.05      7830\n",
      "                                      weighted avg       0.05      0.05      0.05      7830\n",
      "\n",
      "Completed fold 1\n",
      "Epoch 1/5\n",
      "979/979 [==============================] - 41s 41ms/step - loss: 0.0149 - accuracy: 0.9957 - val_loss: 0.4133 - val_accuracy: 0.9415\n",
      "Epoch 2/5\n",
      "979/979 [==============================] - 45s 46ms/step - loss: 0.0196 - accuracy: 0.9944 - val_loss: 0.4258 - val_accuracy: 0.9434\n",
      "Epoch 3/5\n",
      "979/979 [==============================] - 53s 54ms/step - loss: 0.0219 - accuracy: 0.9936 - val_loss: 0.4410 - val_accuracy: 0.9379\n",
      "Epoch 4/5\n",
      "979/979 [==============================] - 53s 54ms/step - loss: 0.0098 - accuracy: 0.9972 - val_loss: 0.4722 - val_accuracy: 0.9344\n",
      "Epoch 5/5\n",
      "979/979 [==============================] - 50s 51ms/step - loss: 0.0218 - accuracy: 0.9939 - val_loss: 0.4123 - val_accuracy: 0.9453\n",
      "245/245 [==============================] - 7s 28ms/step\n",
      "Classification report for fold 2:\n",
      "                                                    precision    recall  f1-score   support\n",
      "\n",
      "                                Apple___Apple_scab       0.04      0.04      0.04       386\n",
      "                                 Apple___Black_rot       0.03      0.03      0.03       356\n",
      "                          Apple___Cedar_apple_rust       0.04      0.03      0.03       363\n",
      "                                   Apple___healthy       0.06      0.06      0.06       412\n",
      "                               Blueberry___healthy       0.06      0.06      0.06       371\n",
      "          Cherry_(including_sour)___Powdery_mildew       0.05      0.05      0.05       311\n",
      "                 Cherry_(including_sour)___healthy       0.05      0.04      0.05       357\n",
      "Corn_(maize)___Cercospora_leaf_spot Gray_leaf_spot       0.03      0.03      0.03       308\n",
      "                       Corn_(maize)___Common_rust_       0.04      0.04      0.04       382\n",
      "               Corn_(maize)___Northern_Leaf_Blight       0.04      0.04      0.04       389\n",
      "                            Corn_(maize)___healthy       0.04      0.04      0.04       362\n",
      "                     Pepper,_bell___Bacterial_spot       0.05      0.05      0.05       375\n",
      "                            Pepper,_bell___healthy       0.04      0.04      0.04       411\n",
      "                             Potato___Early_blight       0.06      0.06      0.06       378\n",
      "                              Potato___Late_blight       0.04      0.04      0.04       412\n",
      "                                  Potato___healthy       0.03      0.03      0.03       380\n",
      "                               Raspberry___healthy       0.05      0.05      0.05       355\n",
      "                                 Soybean___healthy       0.05      0.05      0.05       400\n",
      "                           Squash___Powdery_mildew       0.04      0.04      0.04       357\n",
      "                          Strawberry___Leaf_scorch       0.04      0.04      0.04       365\n",
      "                              Strawberry___healthy       0.06      0.06      0.06       400\n",
      "\n",
      "                                          accuracy                           0.04      7830\n",
      "                                         macro avg       0.04      0.04      0.04      7830\n",
      "                                      weighted avg       0.04      0.04      0.04      7830\n",
      "\n",
      "Completed fold 2\n",
      "Epoch 1/5\n",
      "979/979 [==============================] - 50s 51ms/step - loss: 0.0180 - accuracy: 0.9955 - val_loss: 0.4539 - val_accuracy: 0.9370\n",
      "Epoch 2/5\n",
      "979/979 [==============================] - 51s 52ms/step - loss: 0.0212 - accuracy: 0.9947 - val_loss: 0.3321 - val_accuracy: 0.9564\n",
      "Epoch 3/5\n",
      "979/979 [==============================] - 50s 51ms/step - loss: 0.0154 - accuracy: 0.9964 - val_loss: 0.4431 - val_accuracy: 0.9437\n",
      "Epoch 4/5\n",
      "979/979 [==============================] - 50s 51ms/step - loss: 0.0136 - accuracy: 0.9966 - val_loss: 0.4915 - val_accuracy: 0.9384\n",
      "Epoch 5/5\n",
      "979/979 [==============================] - 50s 51ms/step - loss: 0.0074 - accuracy: 0.9979 - val_loss: 0.4822 - val_accuracy: 0.9470\n",
      "245/245 [==============================] - 7s 28ms/step\n",
      "Classification report for fold 3:\n",
      "                                                    precision    recall  f1-score   support\n",
      "\n",
      "                                Apple___Apple_scab       0.05      0.05      0.05       386\n",
      "                                 Apple___Black_rot       0.04      0.04      0.04       356\n",
      "                          Apple___Cedar_apple_rust       0.05      0.05      0.05       363\n",
      "                                   Apple___healthy       0.05      0.05      0.05       412\n",
      "                               Blueberry___healthy       0.05      0.05      0.05       371\n",
      "          Cherry_(including_sour)___Powdery_mildew       0.03      0.03      0.03       311\n",
      "                 Cherry_(including_sour)___healthy       0.05      0.04      0.05       357\n",
      "Corn_(maize)___Cercospora_leaf_spot Gray_leaf_spot       0.06      0.05      0.05       308\n",
      "                       Corn_(maize)___Common_rust_       0.04      0.04      0.04       382\n",
      "               Corn_(maize)___Northern_Leaf_Blight       0.03      0.04      0.04       389\n",
      "                            Corn_(maize)___healthy       0.03      0.03      0.03       362\n",
      "                     Pepper,_bell___Bacterial_spot       0.06      0.06      0.06       375\n",
      "                            Pepper,_bell___healthy       0.06      0.06      0.06       411\n",
      "                             Potato___Early_blight       0.05      0.04      0.05       378\n",
      "                              Potato___Late_blight       0.05      0.05      0.05       412\n",
      "                                  Potato___healthy       0.04      0.04      0.04       380\n",
      "                               Raspberry___healthy       0.06      0.06      0.06       355\n",
      "                                 Soybean___healthy       0.05      0.06      0.05       400\n",
      "                           Squash___Powdery_mildew       0.06      0.06      0.06       357\n",
      "                          Strawberry___Leaf_scorch       0.04      0.04      0.04       365\n",
      "                              Strawberry___healthy       0.04      0.04      0.04       400\n",
      "\n",
      "                                          accuracy                           0.05      7830\n",
      "                                         macro avg       0.05      0.05      0.05      7830\n",
      "                                      weighted avg       0.05      0.05      0.05      7830\n",
      "\n",
      "Completed fold 3\n",
      "Epoch 1/5\n",
      "979/979 [==============================] - 50s 52ms/step - loss: 0.0339 - accuracy: 0.9921 - val_loss: 0.4075 - val_accuracy: 0.9475\n",
      "Epoch 2/5\n",
      "979/979 [==============================] - 50s 51ms/step - loss: 0.0157 - accuracy: 0.9961 - val_loss: 0.3665 - val_accuracy: 0.9501\n",
      "Epoch 3/5\n",
      "979/979 [==============================] - 50s 51ms/step - loss: 0.0116 - accuracy: 0.9968 - val_loss: 0.4225 - val_accuracy: 0.9470\n",
      "Epoch 4/5\n",
      "979/979 [==============================] - 43s 44ms/step - loss: 0.0152 - accuracy: 0.9958 - val_loss: 0.4438 - val_accuracy: 0.9429\n",
      "Epoch 5/5\n",
      "979/979 [==============================] - 42s 42ms/step - loss: 0.0198 - accuracy: 0.9952 - val_loss: 0.5019 - val_accuracy: 0.9499\n",
      "245/245 [==============================] - 5s 21ms/step\n",
      "Classification report for fold 4:\n",
      "                                                    precision    recall  f1-score   support\n",
      "\n",
      "                                Apple___Apple_scab       0.05      0.05      0.05       386\n",
      "                                 Apple___Black_rot       0.04      0.05      0.05       356\n",
      "                          Apple___Cedar_apple_rust       0.03      0.03      0.03       363\n",
      "                                   Apple___healthy       0.06      0.06      0.06       412\n",
      "                               Blueberry___healthy       0.04      0.04      0.04       371\n",
      "          Cherry_(including_sour)___Powdery_mildew       0.08      0.07      0.07       311\n",
      "                 Cherry_(including_sour)___healthy       0.04      0.04      0.04       357\n",
      "Corn_(maize)___Cercospora_leaf_spot Gray_leaf_spot       0.04      0.04      0.04       308\n",
      "                       Corn_(maize)___Common_rust_       0.04      0.04      0.04       382\n",
      "               Corn_(maize)___Northern_Leaf_Blight       0.03      0.03      0.03       389\n",
      "                            Corn_(maize)___healthy       0.05      0.05      0.05       362\n",
      "                     Pepper,_bell___Bacterial_spot       0.03      0.03      0.03       375\n",
      "                            Pepper,_bell___healthy       0.05      0.06      0.05       411\n",
      "                             Potato___Early_blight       0.07      0.07      0.07       378\n",
      "                              Potato___Late_blight       0.07      0.07      0.07       412\n",
      "                                  Potato___healthy       0.03      0.03      0.03       380\n",
      "                               Raspberry___healthy       0.08      0.08      0.08       355\n",
      "                                 Soybean___healthy       0.07      0.07      0.07       400\n",
      "                           Squash___Powdery_mildew       0.06      0.06      0.06       357\n",
      "                          Strawberry___Leaf_scorch       0.03      0.04      0.03       365\n",
      "                              Strawberry___healthy       0.05      0.04      0.05       400\n",
      "\n",
      "                                          accuracy                           0.05      7830\n",
      "                                         macro avg       0.05      0.05      0.05      7830\n",
      "                                      weighted avg       0.05      0.05      0.05      7830\n",
      "\n",
      "Completed fold 4\n",
      "Epoch 1/5\n",
      "979/979 [==============================] - 42s 43ms/step - loss: 0.0105 - accuracy: 0.9972 - val_loss: 0.4249 - val_accuracy: 0.9542\n",
      "Epoch 2/5\n",
      "979/979 [==============================] - 42s 43ms/step - loss: 0.0235 - accuracy: 0.9946 - val_loss: 0.4132 - val_accuracy: 0.9488\n",
      "Epoch 3/5\n",
      "979/979 [==============================] - 42s 43ms/step - loss: 0.0116 - accuracy: 0.9971 - val_loss: 0.3983 - val_accuracy: 0.9512\n",
      "Epoch 4/5\n",
      "979/979 [==============================] - 42s 43ms/step - loss: 0.0161 - accuracy: 0.9960 - val_loss: 0.4077 - val_accuracy: 0.9531\n",
      "Epoch 5/5\n",
      "979/979 [==============================] - 42s 43ms/step - loss: 0.0151 - accuracy: 0.9966 - val_loss: 0.5673 - val_accuracy: 0.9313\n",
      "245/245 [==============================] - 5s 20ms/step\n",
      "Classification report for fold 5:\n",
      "                                                    precision    recall  f1-score   support\n",
      "\n",
      "                                Apple___Apple_scab       0.06      0.06      0.06       386\n",
      "                                 Apple___Black_rot       0.04      0.04      0.04       356\n",
      "                          Apple___Cedar_apple_rust       0.05      0.05      0.05       363\n",
      "                                   Apple___healthy       0.06      0.05      0.05       412\n",
      "                               Blueberry___healthy       0.05      0.05      0.05       371\n",
      "          Cherry_(including_sour)___Powdery_mildew       0.05      0.05      0.05       311\n",
      "                 Cherry_(including_sour)___healthy       0.05      0.05      0.05       357\n",
      "Corn_(maize)___Cercospora_leaf_spot Gray_leaf_spot       0.03      0.03      0.03       308\n",
      "                       Corn_(maize)___Common_rust_       0.03      0.03      0.03       382\n",
      "               Corn_(maize)___Northern_Leaf_Blight       0.04      0.04      0.04       389\n",
      "                            Corn_(maize)___healthy       0.04      0.03      0.03       362\n",
      "                     Pepper,_bell___Bacterial_spot       0.04      0.04      0.04       375\n",
      "                            Pepper,_bell___healthy       0.06      0.07      0.06       411\n",
      "                             Potato___Early_blight       0.06      0.06      0.06       378\n",
      "                              Potato___Late_blight       0.04      0.04      0.04       412\n",
      "                                  Potato___healthy       0.05      0.05      0.05       380\n",
      "                               Raspberry___healthy       0.06      0.07      0.07       355\n",
      "                                 Soybean___healthy       0.04      0.04      0.04       400\n",
      "                           Squash___Powdery_mildew       0.04      0.04      0.04       357\n",
      "                          Strawberry___Leaf_scorch       0.05      0.05      0.05       365\n",
      "                              Strawberry___healthy       0.06      0.06      0.06       400\n",
      "\n",
      "                                          accuracy                           0.05      7830\n",
      "                                         macro avg       0.05      0.05      0.05      7830\n",
      "                                      weighted avg       0.05      0.05      0.05      7830\n",
      "\n",
      "Completed fold 5\n"
     ]
    }
   ],
   "source": [
    "from sklearn.metrics import classification_report\n",
    "import numpy as np\n",
    "\n",
    "# Define number of folds for cross-validation\n",
    "num_folds = 5\n",
    "\n",
    "# Loop through each fold\n",
    "for fold in range(num_folds):\n",
    "    # Continue training the model for the fold\n",
    "    model.fit(train_generator, validation_data=val_generator, epochs=5)\n",
    "    \n",
    "    # Get predictions on the validation data\n",
    "    val_predictions = model.predict(val_generator)\n",
    "    val_pred_classes = np.argmax(val_predictions, axis=1)  # Predicted class labels\n",
    "\n",
    "    # Get true class labels from the validation data\n",
    "    val_true_classes = val_generator.classes  # Assuming val_generator provides true labels\n",
    "\n",
    "    # Generate classification report\n",
    "    report = classification_report(val_true_classes, val_pred_classes, target_names=val_generator.class_indices.keys())\n",
    "    print(f\"Classification report for fold {fold + 1}:\\n{report}\")\n",
    "    \n",
    "    # Print completed fold\n",
    "    print(f\"Completed fold {fold + 1}\")\n"
   ]
  },
  {
   "cell_type": "markdown",
   "metadata": {
    "id": "n5hjm-AAHMBx"
   },
   "source": [
    " Sequential model training"
   ]
  },
  {
   "cell_type": "code",
   "execution_count": 86,
   "metadata": {
    "id": "antmP77UICSI"
   },
   "outputs": [],
   "source": [
    "import tensorflow as tf\n",
    "from tensorflow.keras import layers, models\n",
    "from matplotlib import pyplot as plt\n",
    "import numpy as np\n",
    "import os\n",
    "import pathlib\n",
    "import pandas as pd\n",
    "from tensorflow.keras.preprocessing.image import ImageDataGenerator\n",
    "from sklearn.model_selection import KFold\n",
    "from sklearn.metrics import classification_report"
   ]
  },
  {
   "cell_type": "code",
   "execution_count": 87,
   "metadata": {
    "id": "xq8MPmWSIVY7"
   },
   "outputs": [],
   "source": [
    "# Define input image size\n",
    "IMAGE_SIZE = (255, 255)\n",
    "BATCH_SIZE = 64\n",
    "EPOCHS = 15  # Number of epochs\n",
    "NUM_FOLDS = 5  # Number of folds for cross-validation"
   ]
  },
  {
   "cell_type": "code",
   "execution_count": 88,
   "metadata": {
    "id": "jlUi-CMNIjfX"
   },
   "outputs": [],
   "source": [
    "# Assuming the dataset is stored in a tar.gz file\n",
    "dataset_url = \"https://storage.googleapis.com/example_imagess/train.tar.gz\"\n",
    "data_dir = tf.keras.utils.get_file('train.tar', origin=dataset_url, extract=True)\n",
    "data_dir = pathlib.Path(data_dir).with_suffix('')"
   ]
  },
  {
   "cell_type": "code",
   "execution_count": 89,
   "metadata": {},
   "outputs": [],
   "source": [
    "# Dynamically determine number of classes\n",
    "class_names = sorted(os.listdir(data_dir))\n",
    "NUM_CLASSES = len(class_names)  # Update NUM_CLASSES based on the dataset structure"
   ]
  },
  {
   "cell_type": "code",
   "execution_count": 90,
   "metadata": {},
   "outputs": [],
   "source": [
    "# Prepare data generator\n",
    "datagen = ImageDataGenerator(\n",
    "    rescale=1./255,\n",
    "    validation_split=0.2  # To keep some validation data\n",
    ")\n",
    "\n",
    "# Collect all images and labels for K-Fold\n",
    "all_images = []\n",
    "all_labels = []"
   ]
  },
  {
   "cell_type": "code",
   "execution_count": 91,
   "metadata": {},
   "outputs": [],
   "source": [
    "for class_idx, class_name in enumerate(class_names):\n",
    "    class_dir = os.path.join(data_dir, class_name)\n",
    "    for img_name in os.listdir(class_dir):\n",
    "        img_path = os.path.join(class_dir, img_name)\n",
    "        all_images.append(img_path)\n",
    "        all_labels.append(class_name)  # Use class names directly\n",
    "\n",
    "# Convert to numpy arrays\n",
    "all_images = np.array(all_images)\n",
    "all_labels = np.array(all_labels)"
   ]
  },
  {
   "cell_type": "code",
   "execution_count": 92,
   "metadata": {},
   "outputs": [
    {
     "name": "stdout",
     "output_type": "stream",
     "text": [
      "Training fold 1...\n",
      "Found 31321 validated image filenames belonging to 21 classes.\n",
      "Found 7831 validated image filenames belonging to 21 classes.\n",
      "Training fold 2...\n",
      "Found 31321 validated image filenames belonging to 21 classes.\n",
      "Found 7831 validated image filenames belonging to 21 classes.\n",
      "Training fold 3...\n",
      "Found 31322 validated image filenames belonging to 21 classes.\n",
      "Found 7830 validated image filenames belonging to 21 classes.\n",
      "Training fold 4...\n",
      "Found 31322 validated image filenames belonging to 21 classes.\n",
      "Found 7830 validated image filenames belonging to 21 classes.\n",
      "Training fold 5...\n",
      "Found 31322 validated image filenames belonging to 21 classes.\n",
      "Found 7830 validated image filenames belonging to 21 classes.\n"
     ]
    }
   ],
   "source": [
    "# K-Fold Cross Validation\n",
    "kfold = KFold(n_splits=NUM_FOLDS, shuffle=True)\n",
    "\n",
    "for fold, (train_idx, val_idx) in enumerate(kfold.split(all_images)):\n",
    "    print(f\"Training fold {fold + 1}...\")\n",
    "\n",
    "    # Create training and validation datasets for this fold\n",
    "    train_images, val_images = all_images[train_idx], all_images[val_idx]\n",
    "    train_labels, val_labels = all_labels[train_idx], all_labels[val_idx]\n",
    "\n",
    "    # Define training and validation generators\n",
    "    train_generator = datagen.flow_from_dataframe(\n",
    "        dataframe=pd.DataFrame({'filename': train_images, 'class': train_labels}),\n",
    "        x_col='filename',\n",
    "        y_col='class',\n",
    "        target_size=IMAGE_SIZE,\n",
    "        batch_size=BATCH_SIZE,\n",
    "        class_mode='sparse'\n",
    "    )\n",
    "\n",
    "    val_generator = datagen.flow_from_dataframe(\n",
    "        dataframe=pd.DataFrame({'filename': val_images, 'class': val_labels}),\n",
    "        x_col='filename',\n",
    "        y_col='class',\n",
    "        target_size=IMAGE_SIZE,\n",
    "        batch_size=BATCH_SIZE,\n",
    "        class_mode='sparse'\n",
    "    )"
   ]
  },
  {
   "cell_type": "code",
   "execution_count": 93,
   "metadata": {},
   "outputs": [],
   "source": [
    " # Define the model\n",
    "model = models.Sequential([\n",
    "        layers.Conv2D(16, 3, padding='same', activation='relu', input_shape=(IMAGE_SIZE[0], IMAGE_SIZE[1], 3)),\n",
    "        layers.MaxPooling2D(),\n",
    "        layers.Conv2D(32, 3, padding='same', activation='relu'),\n",
    "        layers.MaxPooling2D(),\n",
    "        layers.Conv2D(64, 3, padding='same', activation='relu'),\n",
    "        layers.MaxPooling2D(),\n",
    "        layers.Flatten(),\n",
    "        layers.Dense(128, activation='relu'),\n",
    "        layers.Dense(NUM_CLASSES)  # Keep NUM_CLASSES based on the number of unique class names\n",
    "    ])"
   ]
  },
  {
   "cell_type": "code",
   "execution_count": 94,
   "metadata": {},
   "outputs": [
    {
     "name": "stdout",
     "output_type": "stream",
     "text": [
      "Model: \"sequential_4\"\n",
      "_________________________________________________________________\n",
      " Layer (type)                Output Shape              Param #   \n",
      "=================================================================\n",
      " conv2d_12 (Conv2D)          (None, 255, 255, 16)      448       \n",
      "                                                                 \n",
      " max_pooling2d_12 (MaxPooli  (None, 127, 127, 16)      0         \n",
      " ng2D)                                                           \n",
      "                                                                 \n",
      " conv2d_13 (Conv2D)          (None, 127, 127, 32)      4640      \n",
      "                                                                 \n",
      " max_pooling2d_13 (MaxPooli  (None, 63, 63, 32)        0         \n",
      " ng2D)                                                           \n",
      "                                                                 \n",
      " conv2d_14 (Conv2D)          (None, 63, 63, 64)        18496     \n",
      "                                                                 \n",
      " max_pooling2d_14 (MaxPooli  (None, 31, 31, 64)        0         \n",
      " ng2D)                                                           \n",
      "                                                                 \n",
      " flatten_4 (Flatten)         (None, 61504)             0         \n",
      "                                                                 \n",
      " dense_10 (Dense)            (None, 128)               7872640   \n",
      "                                                                 \n",
      " dense_11 (Dense)            (None, 21)                2709      \n",
      "                                                                 \n",
      "=================================================================\n",
      "Total params: 7898933 (30.13 MB)\n",
      "Trainable params: 7898933 (30.13 MB)\n",
      "Non-trainable params: 0 (0.00 Byte)\n",
      "_________________________________________________________________\n"
     ]
    }
   ],
   "source": [
    "model.compile(optimizer='adam',\n",
    "                  loss=tf.keras.losses.SparseCategoricalCrossentropy(from_logits=True),\n",
    "                  metrics=['accuracy'])\n",
    "model.summary()"
   ]
  },
  {
   "cell_type": "code",
   "execution_count": 95,
   "metadata": {},
   "outputs": [
    {
     "name": "stdout",
     "output_type": "stream",
     "text": [
      "Epoch 1/15\n",
      "490/490 [==============================] - 359s 731ms/step - loss: 0.7493 - accuracy: 0.7675 - val_loss: 0.3765 - val_accuracy: 0.8783\n",
      "Epoch 2/15\n",
      "490/490 [==============================] - 201s 410ms/step - loss: 0.2265 - accuracy: 0.9251 - val_loss: 0.2351 - val_accuracy: 0.9245\n",
      "Epoch 3/15\n",
      "490/490 [==============================] - 176s 358ms/step - loss: 0.1238 - accuracy: 0.9588 - val_loss: 0.2382 - val_accuracy: 0.9267\n",
      "Epoch 4/15\n",
      "490/490 [==============================] - 201s 410ms/step - loss: 0.0856 - accuracy: 0.9716 - val_loss: 0.2040 - val_accuracy: 0.9374\n",
      "Epoch 5/15\n",
      "490/490 [==============================] - 196s 400ms/step - loss: 0.0635 - accuracy: 0.9798 - val_loss: 0.2075 - val_accuracy: 0.9400\n",
      "Epoch 6/15\n",
      "490/490 [==============================] - 200s 408ms/step - loss: 0.0544 - accuracy: 0.9815 - val_loss: 0.1826 - val_accuracy: 0.9513\n",
      "Epoch 7/15\n",
      "490/490 [==============================] - 195s 399ms/step - loss: 0.0374 - accuracy: 0.9875 - val_loss: 0.1972 - val_accuracy: 0.9451\n",
      "Epoch 8/15\n",
      "490/490 [==============================] - 185s 378ms/step - loss: 0.0388 - accuracy: 0.9877 - val_loss: 0.1846 - val_accuracy: 0.9488\n",
      "Epoch 9/15\n",
      "490/490 [==============================] - 208s 423ms/step - loss: 0.0372 - accuracy: 0.9884 - val_loss: 0.2550 - val_accuracy: 0.9360\n",
      "Epoch 10/15\n",
      "490/490 [==============================] - 190s 388ms/step - loss: 0.0291 - accuracy: 0.9913 - val_loss: 0.2766 - val_accuracy: 0.9384\n",
      "Epoch 11/15\n",
      "490/490 [==============================] - 195s 397ms/step - loss: 0.0262 - accuracy: 0.9911 - val_loss: 0.2304 - val_accuracy: 0.9493\n",
      "Epoch 12/15\n",
      "490/490 [==============================] - 199s 406ms/step - loss: 0.0430 - accuracy: 0.9860 - val_loss: 0.2049 - val_accuracy: 0.9466\n",
      "Epoch 13/15\n",
      "490/490 [==============================] - 199s 406ms/step - loss: 0.0144 - accuracy: 0.9952 - val_loss: 0.2831 - val_accuracy: 0.9324\n",
      "Epoch 14/15\n",
      "490/490 [==============================] - 199s 405ms/step - loss: 0.0347 - accuracy: 0.9885 - val_loss: 0.2912 - val_accuracy: 0.9457\n",
      "Epoch 15/15\n",
      "490/490 [==============================] - 200s 408ms/step - loss: 0.0239 - accuracy: 0.9917 - val_loss: 0.3881 - val_accuracy: 0.9277\n"
     ]
    }
   ],
   "source": [
    " # Train the model\n",
    "history = model.fit(train_generator, validation_data=val_generator, epochs=EPOCHS)"
   ]
  },
  {
   "cell_type": "code",
   "execution_count": 98,
   "metadata": {},
   "outputs": [
    {
     "name": "stdout",
     "output_type": "stream",
     "text": [
      "Epoch 1/5\n",
      "490/490 [==============================] - 190s 387ms/step - loss: 0.0252 - accuracy: 0.9919 - val_loss: 0.2996 - val_accuracy: 0.9474\n",
      "Epoch 2/5\n",
      "490/490 [==============================] - 152s 309ms/step - loss: 0.0261 - accuracy: 0.9914 - val_loss: 0.3134 - val_accuracy: 0.9358\n",
      "Epoch 3/5\n",
      "490/490 [==============================] - 191s 389ms/step - loss: 0.0035 - accuracy: 0.9988 - val_loss: 0.2314 - val_accuracy: 0.9585\n",
      "Epoch 4/5\n",
      "490/490 [==============================] - 192s 391ms/step - loss: 0.0229 - accuracy: 0.9934 - val_loss: 0.2592 - val_accuracy: 0.9460\n",
      "Epoch 5/5\n",
      "490/490 [==============================] - 150s 306ms/step - loss: 0.0128 - accuracy: 0.9965 - val_loss: 0.4282 - val_accuracy: 0.9262\n",
      "123/123 [==============================] - 19s 150ms/step\n",
      "Completed fold 1 with accuracy: 0.0517\n",
      "Epoch 1/5\n",
      "490/490 [==============================] - 188s 384ms/step - loss: 0.0250 - accuracy: 0.9923 - val_loss: 0.2949 - val_accuracy: 0.9531\n",
      "Epoch 2/5\n",
      "490/490 [==============================] - 194s 396ms/step - loss: 0.0248 - accuracy: 0.9922 - val_loss: 0.3308 - val_accuracy: 0.9404\n",
      "Epoch 3/5\n",
      "490/490 [==============================] - 192s 391ms/step - loss: 0.0208 - accuracy: 0.9936 - val_loss: 0.3244 - val_accuracy: 0.9437\n",
      "Epoch 4/5\n",
      "490/490 [==============================] - 173s 353ms/step - loss: 0.0155 - accuracy: 0.9951 - val_loss: 0.6201 - val_accuracy: 0.8918\n",
      "Epoch 5/5\n",
      "490/490 [==============================] - 174s 356ms/step - loss: 0.0185 - accuracy: 0.9944 - val_loss: 0.3313 - val_accuracy: 0.9478\n",
      "123/123 [==============================] - 18s 149ms/step\n",
      "Completed fold 2 with accuracy: 0.0506\n",
      "Epoch 1/5\n",
      "490/490 [==============================] - 206s 421ms/step - loss: 0.0075 - accuracy: 0.9974 - val_loss: 0.4137 - val_accuracy: 0.9400\n",
      "Epoch 2/5\n",
      "490/490 [==============================] - 211s 431ms/step - loss: 0.0226 - accuracy: 0.9932 - val_loss: 0.3864 - val_accuracy: 0.9411\n",
      "Epoch 3/5\n",
      "490/490 [==============================] - 200s 407ms/step - loss: 0.0184 - accuracy: 0.9944 - val_loss: 0.3561 - val_accuracy: 0.9407\n",
      "Epoch 4/5\n",
      "490/490 [==============================] - 194s 397ms/step - loss: 0.0129 - accuracy: 0.9959 - val_loss: 0.3078 - val_accuracy: 0.9515\n",
      "Epoch 5/5\n",
      "490/490 [==============================] - 177s 362ms/step - loss: 0.0189 - accuracy: 0.9939 - val_loss: 0.6652 - val_accuracy: 0.8946\n",
      "123/123 [==============================] - 14s 116ms/step\n",
      "Completed fold 3 with accuracy: 0.0470\n",
      "Epoch 1/5\n",
      "490/490 [==============================] - 141s 287ms/step - loss: 0.0176 - accuracy: 0.9947 - val_loss: 0.4696 - val_accuracy: 0.9236\n",
      "Epoch 2/5\n",
      "490/490 [==============================] - 142s 290ms/step - loss: 0.0077 - accuracy: 0.9978 - val_loss: 0.3037 - val_accuracy: 0.9516\n",
      "Epoch 3/5\n",
      "490/490 [==============================] - 150s 306ms/step - loss: 0.0069 - accuracy: 0.9978 - val_loss: 0.3718 - val_accuracy: 0.9392\n",
      "Epoch 4/5\n",
      "490/490 [==============================] - 145s 296ms/step - loss: 0.0228 - accuracy: 0.9930 - val_loss: 0.4879 - val_accuracy: 0.9277\n",
      "Epoch 5/5\n",
      "490/490 [==============================] - 139s 284ms/step - loss: 0.0127 - accuracy: 0.9961 - val_loss: 0.3624 - val_accuracy: 0.9525\n",
      "123/123 [==============================] - 12s 95ms/step\n",
      "Completed fold 4 with accuracy: 0.0469\n",
      "Epoch 1/5\n",
      "490/490 [==============================] - 139s 283ms/step - loss: 0.0111 - accuracy: 0.9968 - val_loss: 0.3579 - val_accuracy: 0.9527\n",
      "Epoch 2/5\n",
      "490/490 [==============================] - 139s 283ms/step - loss: 0.0197 - accuracy: 0.9943 - val_loss: 0.4826 - val_accuracy: 0.9338\n",
      "Epoch 3/5\n",
      "490/490 [==============================] - 139s 283ms/step - loss: 0.0091 - accuracy: 0.9976 - val_loss: 0.3564 - val_accuracy: 0.9510\n",
      "Epoch 4/5\n",
      "490/490 [==============================] - 139s 283ms/step - loss: 0.0159 - accuracy: 0.9959 - val_loss: 0.4566 - val_accuracy: 0.9332\n",
      "Epoch 5/5\n",
      "490/490 [==============================] - 139s 283ms/step - loss: 0.0085 - accuracy: 0.9979 - val_loss: 0.3326 - val_accuracy: 0.9566\n",
      "123/123 [==============================] - 12s 96ms/step\n",
      "Completed fold 5 with accuracy: 0.0496\n",
      "Average Accuracy across all folds: 0.0491\n",
      "Final Classification Report:\n",
      "                                                     precision    recall  f1-score   support\n",
      "\n",
      "                                Apple___Apple_scab       0.05      0.05      0.05      2060\n",
      "                                 Apple___Black_rot       0.04      0.04      0.04      1900\n",
      "                          Apple___Cedar_apple_rust       0.05      0.05      0.05      1825\n",
      "                                   Apple___healthy       0.05      0.05      0.05      1815\n",
      "                               Blueberry___healthy       0.05      0.06      0.05      1850\n",
      "          Cherry_(including_sour)___Powdery_mildew       0.04      0.04      0.04      1610\n",
      "                 Cherry_(including_sour)___healthy       0.05      0.05      0.05      1715\n",
      "Corn_(maize)___Cercospora_leaf_spot Gray_leaf_spot       0.03      0.03      0.03      1640\n",
      "                       Corn_(maize)___Common_rust_       0.06      0.06      0.06      1975\n",
      "               Corn_(maize)___Northern_Leaf_Blight       0.05      0.05      0.05      1945\n",
      "                            Corn_(maize)___healthy       0.06      0.06      0.06      1795\n",
      "                     Pepper,_bell___Bacterial_spot       0.05      0.05      0.05      1950\n",
      "                            Pepper,_bell___healthy       0.04      0.04      0.04      1855\n",
      "                             Potato___Early_blight       0.05      0.05      0.05      1995\n",
      "                              Potato___Late_blight       0.06      0.06      0.06      2070\n",
      "                                  Potato___healthy       0.06      0.05      0.05      1755\n",
      "                               Raspberry___healthy       0.05      0.05      0.05      1870\n",
      "                                 Soybean___healthy       0.05      0.05      0.05      2085\n",
      "                           Squash___Powdery_mildew       0.05      0.05      0.05      1750\n",
      "                          Strawberry___Leaf_scorch       0.05      0.05      0.05      1780\n",
      "                              Strawberry___healthy       0.05      0.05      0.05      1910\n",
      "\n",
      "                                          accuracy                           0.05     39150\n",
      "                                         macro avg       0.05      0.05      0.05     39150\n",
      "                                      weighted avg       0.05      0.05      0.05     39150\n",
      "\n"
     ]
    }
   ],
   "source": [
    "from sklearn.metrics import classification_report, accuracy_score\n",
    "import numpy as np\n",
    "\n",
    "# Define number of folds for cross-validation\n",
    "num_folds = 5\n",
    "accuracy_scores = []\n",
    "all_true_labels = []\n",
    "all_pred_labels = []\n",
    "\n",
    "# Loop through each fold\n",
    "for fold in range(num_folds):\n",
    "    # Train the model on the current fold\n",
    "    model.fit(train_generator, validation_data=val_generator, epochs=5)\n",
    "    \n",
    "    # Predict on the validation data for the current fold\n",
    "    val_predictions = model.predict(val_generator)\n",
    "    val_pred_classes = np.argmax(val_predictions, axis=1)  # Predicted class labels\n",
    "    val_true_classes = val_generator.classes  # True class labels\n",
    "    \n",
    "    # Calculate accuracy for the current fold\n",
    "    accuracy = accuracy_score(val_true_classes, val_pred_classes)\n",
    "    accuracy_scores.append(accuracy)\n",
    "    \n",
    "    # Append predictions and true labels to overall lists\n",
    "    all_true_labels.extend(val_true_classes)\n",
    "    all_pred_labels.extend(val_pred_classes)\n",
    "    \n",
    "    # Print completed fold\n",
    "    print(f\"Completed fold {fold + 1} with accuracy: {accuracy:.4f}\")\n",
    "\n",
    "# Calculate the average accuracy across all folds\n",
    "average_accuracy = np.mean(accuracy_scores)\n",
    "print(f\"Average Accuracy across all folds: {average_accuracy:.4f}\")\n",
    "\n",
    "# Generate a final classification report using all predictions and labels\n",
    "final_report = classification_report(all_true_labels, all_pred_labels, target_names=val_generator.class_indices.keys())\n",
    "print(\"Final Classification Report:\\n\", final_report)\n"
   ]
  },
  {
   "cell_type": "code",
   "execution_count": 97,
   "metadata": {},
   "outputs": [
    {
     "data": {
      "image/png": "[encoded data removed]",
      "text/plain": [
       "<Figure size 800x800 with 2 Axes>"
      ]
     },
     "metadata": {},
     "output_type": "display_data"
    },
    {
     "name": "stdout",
     "output_type": "stream",
     "text": [
      "Completed fold 1\n"
     ]
    }
   ],
   "source": [
    "# Plotting the results\n",
    "acc = history.history['accuracy']\n",
    "val_acc = history.history['val_accuracy']\n",
    "loss = history.history['loss']\n",
    "val_loss = history.history['val_loss']\n",
    "epochs_range = range(EPOCHS)\n",
    "plt.figure(figsize=(8, 8))\n",
    "plt.subplot(1, 2, 1)\n",
    "plt.plot(epochs_range, acc, label='Training Accuracy')\n",
    "plt.plot(epochs_range, val_acc, label='Validation Accuracy')\n",
    "plt.legend(loc='lower right')\n",
    "plt.title(f'Training and Validation Accuracy - Fold {fold + 1}')\n",
    "\n",
    "plt.subplot(1, 2, 2)\n",
    "plt.plot(epochs_range, loss, label='Training Loss')\n",
    "plt.plot(epochs_range, val_loss, label='Validation Loss')\n",
    "plt.legend(loc='upper right')\n",
    "plt.title(f'Training and Validation Loss - Fold {fold + 1}')\n",
    "plt.show()\n",
    "\n",
    "print(f\"Completed fold {fold + 1}\")"
   ]
  },
  {
   "cell_type": "code",
   "execution_count": null,
   "metadata": {},
   "outputs": [],
   "source": []
  },
  {
   "cell_type": "code",
   "execution_count": 79,
   "metadata": {},
   "outputs": [
    {
     "name": "stdout",
     "output_type": "stream",
     "text": [
      "245/245 [==============================] - 5s 21ms/step\n",
      "Classification Report:\n"
     ]
    },
    {
     "ename": "ValueError",
     "evalue": "Mix of label input types (string and number)",
     "output_type": "error",
     "traceback": [
      "\u001b[1;31m---------------------------------------------------------------------------\u001b[0m",
      "\u001b[1;31mValueError\u001b[0m                                Traceback (most recent call last)",
      "Cell \u001b[1;32mIn[79], line 7\u001b[0m\n\u001b[0;32m      5\u001b[0m     \u001b[38;5;66;03m# Generate classification report\u001b[39;00m\n\u001b[0;32m      6\u001b[0m \u001b[38;5;28mprint\u001b[39m(\u001b[38;5;124m\"\u001b[39m\u001b[38;5;124mClassification Report:\u001b[39m\u001b[38;5;124m\"\u001b[39m)\n\u001b[1;32m----> 7\u001b[0m \u001b[38;5;28mprint\u001b[39m(\u001b[43mclassification_report\u001b[49m\u001b[43m(\u001b[49m\u001b[43mval_labels\u001b[49m\u001b[43m,\u001b[49m\u001b[43m \u001b[49m\u001b[43mpredicted_classes\u001b[49m\u001b[43m,\u001b[49m\u001b[43m \u001b[49m\u001b[43mtarget_names\u001b[49m\u001b[38;5;241;43m=\u001b[39;49m\u001b[43mclass_names\u001b[49m\u001b[43m)\u001b[49m)\n",
      "File \u001b[1;32mc:\\Users\\MSIS\\AppData\\Local\\Programs\\Python\\Python311\\Lib\\site-packages\\sklearn\\utils\\_param_validation.py:213\u001b[0m, in \u001b[0;36mvalidate_params.<locals>.decorator.<locals>.wrapper\u001b[1;34m(*args, **kwargs)\u001b[0m\n\u001b[0;32m    207\u001b[0m \u001b[38;5;28;01mtry\u001b[39;00m:\n\u001b[0;32m    208\u001b[0m     \u001b[38;5;28;01mwith\u001b[39;00m config_context(\n\u001b[0;32m    209\u001b[0m         skip_parameter_validation\u001b[38;5;241m=\u001b[39m(\n\u001b[0;32m    210\u001b[0m             prefer_skip_nested_validation \u001b[38;5;129;01mor\u001b[39;00m global_skip_validation\n\u001b[0;32m    211\u001b[0m         )\n\u001b[0;32m    212\u001b[0m     ):\n\u001b[1;32m--> 213\u001b[0m         \u001b[38;5;28;01mreturn\u001b[39;00m \u001b[43mfunc\u001b[49m\u001b[43m(\u001b[49m\u001b[38;5;241;43m*\u001b[39;49m\u001b[43margs\u001b[49m\u001b[43m,\u001b[49m\u001b[43m \u001b[49m\u001b[38;5;241;43m*\u001b[39;49m\u001b[38;5;241;43m*\u001b[39;49m\u001b[43mkwargs\u001b[49m\u001b[43m)\u001b[49m\n\u001b[0;32m    214\u001b[0m \u001b[38;5;28;01mexcept\u001b[39;00m InvalidParameterError \u001b[38;5;28;01mas\u001b[39;00m e:\n\u001b[0;32m    215\u001b[0m     \u001b[38;5;66;03m# When the function is just a wrapper around an estimator, we allow\u001b[39;00m\n\u001b[0;32m    216\u001b[0m     \u001b[38;5;66;03m# the function to delegate validation to the estimator, but we replace\u001b[39;00m\n\u001b[0;32m    217\u001b[0m     \u001b[38;5;66;03m# the name of the estimator by the name of the function in the error\u001b[39;00m\n\u001b[0;32m    218\u001b[0m     \u001b[38;5;66;03m# message to avoid confusion.\u001b[39;00m\n\u001b[0;32m    219\u001b[0m     msg \u001b[38;5;241m=\u001b[39m re\u001b[38;5;241m.\u001b[39msub(\n\u001b[0;32m    220\u001b[0m         \u001b[38;5;124mr\u001b[39m\u001b[38;5;124m\"\u001b[39m\u001b[38;5;124mparameter of \u001b[39m\u001b[38;5;124m\\\u001b[39m\u001b[38;5;124mw+ must be\u001b[39m\u001b[38;5;124m\"\u001b[39m,\n\u001b[0;32m    221\u001b[0m         \u001b[38;5;124mf\u001b[39m\u001b[38;5;124m\"\u001b[39m\u001b[38;5;124mparameter of \u001b[39m\u001b[38;5;132;01m{\u001b[39;00mfunc\u001b[38;5;241m.\u001b[39m\u001b[38;5;18m__qualname__\u001b[39m\u001b[38;5;132;01m}\u001b[39;00m\u001b[38;5;124m must be\u001b[39m\u001b[38;5;124m\"\u001b[39m,\n\u001b[0;32m    222\u001b[0m         \u001b[38;5;28mstr\u001b[39m(e),\n\u001b[0;32m    223\u001b[0m     )\n",
      "File \u001b[1;32mc:\\Users\\MSIS\\AppData\\Local\\Programs\\Python\\Python311\\Lib\\site-packages\\sklearn\\metrics\\_classification.py:2629\u001b[0m, in \u001b[0;36mclassification_report\u001b[1;34m(y_true, y_pred, labels, target_names, sample_weight, digits, output_dict, zero_division)\u001b[0m\n\u001b[0;32m   2626\u001b[0m y_type, y_true, y_pred \u001b[38;5;241m=\u001b[39m _check_targets(y_true, y_pred)\n\u001b[0;32m   2628\u001b[0m \u001b[38;5;28;01mif\u001b[39;00m labels \u001b[38;5;129;01mis\u001b[39;00m \u001b[38;5;28;01mNone\u001b[39;00m:\n\u001b[1;32m-> 2629\u001b[0m     labels \u001b[38;5;241m=\u001b[39m \u001b[43munique_labels\u001b[49m\u001b[43m(\u001b[49m\u001b[43my_true\u001b[49m\u001b[43m,\u001b[49m\u001b[43m \u001b[49m\u001b[43my_pred\u001b[49m\u001b[43m)\u001b[49m\n\u001b[0;32m   2630\u001b[0m     labels_given \u001b[38;5;241m=\u001b[39m \u001b[38;5;28;01mFalse\u001b[39;00m\n\u001b[0;32m   2631\u001b[0m \u001b[38;5;28;01melse\u001b[39;00m:\n",
      "File \u001b[1;32mc:\\Users\\MSIS\\AppData\\Local\\Programs\\Python\\Python311\\Lib\\site-packages\\sklearn\\utils\\multiclass.py:114\u001b[0m, in \u001b[0;36munique_labels\u001b[1;34m(*ys)\u001b[0m\n\u001b[0;32m    112\u001b[0m \u001b[38;5;66;03m# Check that we don't mix string type with number type\u001b[39;00m\n\u001b[0;32m    113\u001b[0m \u001b[38;5;28;01mif\u001b[39;00m \u001b[38;5;28mlen\u001b[39m(\u001b[38;5;28mset\u001b[39m(\u001b[38;5;28misinstance\u001b[39m(label, \u001b[38;5;28mstr\u001b[39m) \u001b[38;5;28;01mfor\u001b[39;00m label \u001b[38;5;129;01min\u001b[39;00m ys_labels)) \u001b[38;5;241m>\u001b[39m \u001b[38;5;241m1\u001b[39m:\n\u001b[1;32m--> 114\u001b[0m     \u001b[38;5;28;01mraise\u001b[39;00m \u001b[38;5;167;01mValueError\u001b[39;00m(\u001b[38;5;124m\"\u001b[39m\u001b[38;5;124mMix of label input types (string and number)\u001b[39m\u001b[38;5;124m\"\u001b[39m)\n\u001b[0;32m    116\u001b[0m \u001b[38;5;28;01mreturn\u001b[39;00m xp\u001b[38;5;241m.\u001b[39masarray(\u001b[38;5;28msorted\u001b[39m(ys_labels))\n",
      "\u001b[1;31mValueError\u001b[0m: Mix of label input types (string and number)"
     ]
    }
   ],
   "source": [
    "val_generator.reset()\n",
    "predictions = model.predict(val_generator)\n",
    "predicted_classes = np.argmax(predictions, axis=1)\n",
    "\n",
    "    # Generate classification report\n",
    "print(\"Classification Report:\")\n",
    "print(classification_report(val_labels, predicted_classes, target_names=class_names))\n"
   ]
  }
 ],
 "metadata": {
  "accelerator": "TPU",
  "colab": {
   "gpuType": "V28",
   "private_outputs": true,
   "provenance": []
  },
  "kernelspec": {
   "display_name": "Python 3",
   "name": "python3"
  },
  "language_info": {
   "codemirror_mode": {
    "name": "ipython",
    "version": 3
   },
   "file_extension": ".py",
   "mimetype": "text/x-python",
   "name": "python",
   "nbconvert_exporter": "python",
   "pygments_lexer": "ipython3",
   "version": "3.11.4"
  }
 },
 "nbformat": 4,
 "nbformat_minor": 0
}
